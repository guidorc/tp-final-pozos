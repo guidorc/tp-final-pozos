{
  "metadata": {
    "kernelspec": {
      "name": "python",
      "display_name": "Python (Pyodide)",
      "language": "python"
    },
    "language_info": {
      "codemirror_mode": {
        "name": "python",
        "version": 3
      },
      "file_extension": ".py",
      "mimetype": "text/x-python",
      "name": "python",
      "nbconvert_exporter": "python",
      "pygments_lexer": "ipython3",
      "version": "3.8"
    }
  },
  "nbformat_minor": 4,
  "nbformat": 4,
  "cells": [
    {
      "cell_type": "code",
      "source": "import pandas as pd\nimport json\nimport geopandas as gpd\nfrom shapely.geometry import shape, MultiPolygon",
      "metadata": {
        "trusted": true
      },
      "outputs": [
        {
          "name": "stderr",
          "text": "<ipython-input-1-7b0e135648b8>:1: DeprecationWarning: \nPyarrow will become a required dependency of pandas in the next major release of pandas (pandas 3.0),\n(to allow more performant data types, such as the Arrow string type, and better interoperability with other libraries)\nbut was not found to be installed on your system.\nIf this would cause problems for you,\nplease provide us feedback at https://github.com/pandas-dev/pandas/issues/54466\n        \n  import pandas as pd\n",
          "output_type": "stream"
        }
      ],
      "execution_count": 1
    },
    {
      "cell_type": "code",
      "source": "csv_file = 'info_pozos.csv'\ndf = pd.read_csv(csv_file)\n\njson_file = 'provincia.json'\nwith open(json_file) as f:\n    data_provincias = json.load(f)\n\nprovinces_gdf = gpd.GeoDataFrame.from_features(data_provincias['features'])\nprovinces_gdf = provinces_gdf.set_crs(\"EPSG:4326\")\n\ndef geojson_to_geometry(geojson_str):\n    try:\n        return shape(json.loads(geojson_str))\n    except (json.JSONDecodeError, TypeError, ValueError):\n        return None\n\ndf['geometry'] = df['geojson'].apply(geojson_to_geometry)\ngeo_gdf = gpd.GeoDataFrame(df, geometry='geometry', crs=\"EPSG:4326\")\n\n# Verificar interseccion de geojson con dataset\nresult_gdf = gpd.sjoin(geo_gdf, provinces_gdf, how='left', predicate='intersects')\n\ndf['provincia_geojson'] = result_gdf['nam']\n\noutput_csv_file = 'info_pozos_provincias.csv'\ndf.to_csv(output_csv_file, index=False)\n",
      "metadata": {
        "trusted": true
      },
      "outputs": [],
      "execution_count": null
    },
    {
      "cell_type": "code",
      "source": "csv_file = 'info_pozos_provincias.csv'\ndf = pd.read_csv(csv_file)\n\ndef check_provincia(row):\n    return row['provincia_geojson'] != row['provincia']\n\n# Aplicar matcheo de ovincias (true)\ndf['match_check'] = df.apply(check_provincia, axis=1)\nmismatch_rows = df[df['match_check'] == True]\n\noutput_csv_file = 'provincias_erroneas.csv'\nmismatch_rows.to_csv(output_csv_file, index=False)",
      "metadata": {
        "trusted": true
      },
      "outputs": [
        {
          "name": "stdout",
          "text": "             provincia provincia_geojson\n76               Salta             Jujuy\n2792         Rio Negro           Neuquén\n2793         Rio Negro           Neuquén\n2799         Rio Negro           Neuquén\n3181           Mendoza          La Pampa\n...                ...               ...\n82680  Estado Nacional               NaN\n84281  Estado Nacional               NaN\n84282              NaN               NaN\n84293        Rio Negro         Río Negro\n84396  Estado Nacional               NaN\n\n[625 rows x 2 columns]\nMismatched rows saved to provincias_erroneas.csv\n",
          "output_type": "stream"
        }
      ],
      "execution_count": 2
    },
    {
      "cell_type": "code",
      "source": "# Analisis de resultados\ncsv_file = 'provincias_erroneas.csv'\ndf = pd.read_csv(csv_file)\n\n# Reemplazar vacios con ''\ndf['provincia_geojson'] = df['provincia_geojson'].fillna('').str.strip()\n\ngrouped_df = df.groupby(['provincia', 'provincia_geojson']).size().reset_index(name='count')\n\n# Display the resulting DataFrame\nprint(grouped_df)",
      "metadata": {
        "trusted": true
      },
      "outputs": [
        {
          "name": "stdout",
          "text": "           provincia provincia_geojson  count\n0             Chubut                      323\n1    Estado Nacional                       74\n2           La Pampa                        1\n3            Mendoza            Chubut      1\n4            Mendoza          La Pampa      1\n5            Mendoza           Neuquén      1\n6            Mendoza          San Luis      1\n7            Neuquén                        1\n8            Neuquén           Mendoza      2\n9            Neuquén         Rio Negro     13\n10         Rio Negro                        1\n11         Rio Negro          La Pampa     11\n12         Rio Negro           Neuquén      3\n13         Rio Negro         Río Negro      1\n14             Salta             Jujuy      1\n15        Santa Cruz                       66\n16  Tierra del Fuego                      123\n",
          "output_type": "stream"
        }
      ],
      "execution_count": 3
    },
    {
      "cell_type": "code",
      "source": "",
      "metadata": {
        "trusted": true
      },
      "outputs": [],
      "execution_count": null
    }
  ]
}