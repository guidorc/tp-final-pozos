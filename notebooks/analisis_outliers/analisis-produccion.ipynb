{
  "metadata": {
    "kernelspec": {
      "name": "python",
      "display_name": "Python (Pyodide)",
      "language": "python"
    },
    "language_info": {
      "codemirror_mode": {
        "name": "python",
        "version": 3
      },
      "file_extension": ".py",
      "mimetype": "text/x-python",
      "name": "python",
      "nbconvert_exporter": "python",
      "pygments_lexer": "ipython3",
      "version": "3.8"
    }
  },
  "nbformat_minor": 4,
  "nbformat": 4,
  "cells": [
    {
      "cell_type": "code",
      "source": "!pip3 install seaborn",
      "metadata": {
        "trusted": true
      },
      "outputs": [
        {
          "ename": "<class 'OSError'>",
          "evalue": "Not available",
          "traceback": [
            "\u001b[0;31m---------------------------------------------------------------------------\u001b[0m",
            "\u001b[0;31mOSError\u001b[0m                                   Traceback (most recent call last)",
            "Cell \u001b[0;32mIn[4], line 1\u001b[0m\n\u001b[0;32m----> 1\u001b[0m \u001b[43mget_ipython\u001b[49m\u001b[43m(\u001b[49m\u001b[43m)\u001b[49m\u001b[38;5;241;43m.\u001b[39;49m\u001b[43msystem\u001b[49m\u001b[43m(\u001b[49m\u001b[38;5;124;43m'\u001b[39;49m\u001b[38;5;124;43mpip3 install seaborn\u001b[39;49m\u001b[38;5;124;43m'\u001b[39;49m\u001b[43m)\u001b[49m\n",
            "File \u001b[0;32m/lib/python3.12/site-packages/IPython/core/interactiveshell.py:2653\u001b[0m, in \u001b[0;36mInteractiveShell.system_piped\u001b[0;34m(self, cmd)\u001b[0m\n\u001b[1;32m   2648\u001b[0m     \u001b[38;5;28;01mraise\u001b[39;00m \u001b[38;5;167;01mOSError\u001b[39;00m(\u001b[38;5;124m\"\u001b[39m\u001b[38;5;124mBackground processes not supported.\u001b[39m\u001b[38;5;124m\"\u001b[39m)\n\u001b[1;32m   2650\u001b[0m \u001b[38;5;66;03m# we explicitly do NOT return the subprocess status code, because\u001b[39;00m\n\u001b[1;32m   2651\u001b[0m \u001b[38;5;66;03m# a non-None value would trigger :func:`sys.displayhook` calls.\u001b[39;00m\n\u001b[1;32m   2652\u001b[0m \u001b[38;5;66;03m# Instead, we store the exit_code in user_ns.\u001b[39;00m\n\u001b[0;32m-> 2653\u001b[0m \u001b[38;5;28mself\u001b[39m\u001b[38;5;241m.\u001b[39muser_ns[\u001b[38;5;124m'\u001b[39m\u001b[38;5;124m_exit_code\u001b[39m\u001b[38;5;124m'\u001b[39m] \u001b[38;5;241m=\u001b[39m \u001b[43msystem\u001b[49m\u001b[43m(\u001b[49m\u001b[38;5;28;43mself\u001b[39;49m\u001b[38;5;241;43m.\u001b[39;49m\u001b[43mvar_expand\u001b[49m\u001b[43m(\u001b[49m\u001b[43mcmd\u001b[49m\u001b[43m,\u001b[49m\u001b[43m \u001b[49m\u001b[43mdepth\u001b[49m\u001b[38;5;241;43m=\u001b[39;49m\u001b[38;5;241;43m1\u001b[39;49m\u001b[43m)\u001b[49m\u001b[43m)\u001b[49m\n",
            "File \u001b[0;32m/lib/python3.12/site-packages/IPython/utils/_process_emscripten.py:11\u001b[0m, in \u001b[0;36msystem\u001b[0;34m(cmd)\u001b[0m\n\u001b[1;32m     10\u001b[0m \u001b[38;5;28;01mdef\u001b[39;00m \u001b[38;5;21msystem\u001b[39m(cmd):\n\u001b[0;32m---> 11\u001b[0m     \u001b[38;5;28;01mraise\u001b[39;00m \u001b[38;5;167;01mOSError\u001b[39;00m(\u001b[38;5;124m\"\u001b[39m\u001b[38;5;124mNot available\u001b[39m\u001b[38;5;124m\"\u001b[39m)\n",
            "\u001b[0;31mOSError\u001b[0m: Not available"
          ],
          "output_type": "error"
        }
      ],
      "execution_count": 4
    },
    {
      "cell_type": "code",
      "source": "import pandas as pd\nimport seaborn as sns\nimport matplotlib.pyplot as plt",
      "metadata": {
        "trusted": true
      },
      "outputs": [
        {
          "name": "stderr",
          "text": "<ipython-input-1-b5b011c65a00>:1: DeprecationWarning: \nPyarrow will become a required dependency of pandas in the next major release of pandas (pandas 3.0),\n(to allow more performant data types, such as the Arrow string type, and better interoperability with other libraries)\nbut was not found to be installed on your system.\nIf this would cause problems for you,\nplease provide us feedback at https://github.com/pandas-dev/pandas/issues/54466\n        \n  import pandas as pd\n",
          "output_type": "stream"
        },
        {
          "ename": "<class 'ModuleNotFoundError'>",
          "evalue": "No module named 'seaborn'",
          "traceback": [
            "\u001b[0;31m---------------------------------------------------------------------------\u001b[0m",
            "\u001b[0;31mModuleNotFoundError\u001b[0m                       Traceback (most recent call last)",
            "Cell \u001b[0;32mIn[1], line 2\u001b[0m\n\u001b[1;32m      1\u001b[0m \u001b[38;5;28;01mimport\u001b[39;00m \u001b[38;5;21;01mpandas\u001b[39;00m \u001b[38;5;28;01mas\u001b[39;00m \u001b[38;5;21;01mpd\u001b[39;00m\n\u001b[0;32m----> 2\u001b[0m \u001b[38;5;28;01mimport\u001b[39;00m \u001b[38;5;21;01mseaborn\u001b[39;00m \u001b[38;5;28;01mas\u001b[39;00m \u001b[38;5;21;01msns\u001b[39;00m\n\u001b[1;32m      3\u001b[0m \u001b[38;5;28;01mimport\u001b[39;00m \u001b[38;5;21;01mmatplotlib\u001b[39;00m\u001b[38;5;21;01m.\u001b[39;00m\u001b[38;5;21;01mpyplot\u001b[39;00m \u001b[38;5;28;01mas\u001b[39;00m \u001b[38;5;21;01mplt\u001b[39;00m\n",
            "\u001b[0;31mModuleNotFoundError\u001b[0m: No module named 'seaborn'"
          ],
          "output_type": "error"
        }
      ],
      "execution_count": 1
    },
    {
      "cell_type": "code",
      "source": "######## ANÁLISIS PRODUCCION PETROLEO ########\ncsv_file = 'produccion/produccion_pet_por_provincia.csv'\ndf = pd.read_csv(csv_file)\n\ndf['avg_pet'] = pd.to_numeric(df['avg_pet'], errors='coerce')\n\n# Plot a boxplot for 'avg_pet' grouped by 'provincia'\nplt.figure(figsize=(12, 8))\nsns.boxplot(x='provincia', y='avg_pet', data=df, palette='Set3')\n\n# Customize the plot\nplt.xticks(rotation=45, ha='right')  # Rotate x-axis labels for better visibility\nplt.xlabel('Provincia')\nplt.ylabel('Producción')\nplt.title('Producción de petróleo por Provincia')\n\n# Save the plot as a PNG file and display it\nplt.savefig('boxplot_avg_pet_por_provincia.png', format='png', bbox_inches='tight', dpi=300)\nplt.tight_layout()\nplt.show()\n",
      "metadata": {
        "trusted": true
      },
      "outputs": [],
      "execution_count": null
    },
    {
      "cell_type": "code",
      "source": "\n######## ANÁLISIS OUTLIERS PETROLEO ########\n",
      "metadata": {
        "trusted": true
      },
      "outputs": [],
      "execution_count": null
    },
    {
      "cell_type": "code",
      "source": "zscores = pd.read_csv('produccion/zscores_gas.csv')\n\ntop_10_zscores = zscores.nlargest(20, 'mediana_zscore').sort_values(by='mediana_zscore', ascending=True)\n\nplt.figure(figsize=(12, 8))\nplt.bar(top_10_zscores['idpozo'].astype(str), top_10_zscores['mediana_zscore'], color='skyblue')\nplt.xticks(rotation=45, ha='right')\nplt.yticks([n for n in range(0, 51, 5)])\nplt.xlabel('Pozo')\nplt.ylabel('Zscore producción')\nplt.title('Top 20 pozos con mayor producción de gas')\n\nfor y in range(0, 51, 5):\n    plt.axhline(y=y, color='gray', linestyle='--', linewidth=0.5)\n\nplt.savefig('zscores_gas.png', format='png', bbox_inches='tight', dpi=300)\nplt.tight_layout()\nplt.show()",
      "metadata": {
        "trusted": true
      },
      "outputs": [],
      "execution_count": null
    },
    {
      "cell_type": "code",
      "source": "produccion_pet = pd.read_csv('produccion/produccion_pet_outlier.csv')\nestadisticas_pet = pd.read_csv('produccion/avg_std_pet.csv')\n\navg_pet = float(estadisticas_pet['mediana_pet'])\nstd_pet = float(estadisticas_pet['std_pet'])\n\nplt.figure(figsize=(12, 8))\nplt.bar(produccion_pet['fecha_data'].astype(str), produccion_pet['prod_pet'], color='skyblue')\nplt.xticks(rotation=45, ha='right')\nplt.yticks([n for n in range(0, 18001, 1000)])\nplt.xlabel('Fecha de los datos')\nplt.ylabel('Producción de petróleo')\nplt.title('Detalle producción de petroleo del pozo 164941')\n\nfor y in range(0, 18001, 1000):\n    plt.axhline(y=y, color='gray', linestyle='--', linewidth=0.5)\n\ntextstr = f'Avg: {avg_pet:.2f}\\nStd Dev: {std_pet:.2f}'\n\nplt.gca().text(\n    0.20, 0.95, textstr,\n    transform=plt.gca().transAxes,\n    fontsize=12,\n    verticalalignment='top',\n    horizontalalignment='right',\n    bbox=dict(boxstyle='round,pad=0.3', edgecolor='black', facecolor='white', alpha=0.8)\n)\n\nplt.savefig('produccion/produccion_pet_outlier.png', format='png', bbox_inches='tight', dpi=300)\nplt.tight_layout()\nplt.show()",
      "metadata": {
        "trusted": true
      },
      "outputs": [],
      "execution_count": null
    },
    {
      "cell_type": "code",
      "source": "\n######## ANÁLISIS OUTLIERS GAS ########\n",
      "metadata": {
        "trusted": true
      },
      "outputs": [],
      "execution_count": null
    },
    {
      "cell_type": "code",
      "source": "zscores = pd.read_csv('produccion/zscores_pet.csv')\n\ntop_10_zscores = zscores.nlargest(20, 'mediana_zscore').sort_values(by='mediana_zscore', ascending=True)\n\nplt.figure(figsize=(12, 8))\nplt.bar(top_10_zscores['idpozo'].astype(str), top_10_zscores['mediana_zscore'], color='skyblue')\nplt.xticks(rotation=45, ha='right')\nplt.yticks([n for n in range(0, 26, 5)])\nplt.xlabel('Pozo')\nplt.ylabel('Zscore producción')\nplt.title('Top 20 pozos con mayor producción de petroleo')\n\nfor y in range(0, 21, 5):\n    plt.axhline(y=y, color='gray', linestyle='--', linewidth=0.5)\n\nplt.savefig('zscores_pet.png', format='png', bbox_inches='tight', dpi=300)\nplt.tight_layout()\nplt.show()",
      "metadata": {
        "trusted": true
      },
      "outputs": [],
      "execution_count": null
    },
    {
      "cell_type": "code",
      "source": "",
      "metadata": {
        "trusted": true
      },
      "outputs": [],
      "execution_count": null
    }
  ]
}